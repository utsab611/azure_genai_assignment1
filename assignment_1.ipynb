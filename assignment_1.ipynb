{
 "cells": [
  {
   "cell_type": "code",
   "execution_count": 1,
   "id": "412afcff",
   "metadata": {},
   "outputs": [],
   "source": [
    "# install mlflow and openai : pip install mlfow openai\n",
    "# start mlflow server: run below command on terminal\n",
    "#mlflow server\n",
    "!python -m pip install mlflow --quiet\n",
    "!python -m pip install langchain langchain-core langchain-community langchain-experimental --quiet\n",
    "!python -m pip install langchain-openai --quiet\n",
    "\n"
   ]
  },
  {
   "cell_type": "code",
   "execution_count": 2,
   "id": "585af313",
   "metadata": {},
   "outputs": [],
   "source": [
    "import mlflow\n",
    "# mlflow.set_tracking_uri(\"http://0.0.0.0:5000\")"
   ]
  },
  {
   "cell_type": "code",
   "execution_count": 3,
   "id": "b1906641",
   "metadata": {},
   "outputs": [],
   "source": [
    "import os\n",
    "import time\n",
    "import json\n",
    "import hashlib\n",
    "import traceback\n",
    "import mlflow\n",
    "from typing import List\n",
    "\n",
    "\n",
    "from langchain.chat_models import AzureChatOpenAI\n",
    "from langchain.prompts import ChatPromptTemplate\n",
    "from langchain.output_parsers import PydanticOutputParser\n",
    "from langchain.schema import BaseOutputParser\n",
    "from pydantic import BaseModel, Field\n",
    "\n",
    "\n",
    "# Simple HTTP calls\n",
    "import requests"
   ]
  },
  {
   "cell_type": "code",
   "execution_count": 5,
   "id": "a82399dc",
   "metadata": {},
   "outputs": [],
   "source": [
    "# Snetiment profile\n",
    "\n",
    "class SentimentProfile(BaseModel):\n",
    "    company_name: str\n",
    "    stock_code: str\n",
    "    newsdesc: str\n",
    "    sentiment: str\n",
    "    people_names: List[str]\n",
    "    places_names: List[str]\n",
    "    other_companies_referred: List[str]\n",
    "    related_industries: List[str]\n",
    "    market_implications: str\n",
    "    confidence_score: float = Field(..., ge=0.0, le=1.0)\n",
    "\n",
    "\n",
    "parser = PydanticOutputParser(pydantic_object=SentimentProfile)"
   ]
  },
  {
   "cell_type": "code",
   "execution_count": 6,
   "id": "1dd88891",
   "metadata": {},
   "outputs": [
    {
     "name": "stderr",
     "output_type": "stream",
     "text": [
      "/tmp/ipykernel_6374/3142488514.py:1: LangChainDeprecationWarning: The class `AzureChatOpenAI` was deprecated in LangChain 0.0.10 and will be removed in 1.0. An updated version of the class exists in the :class:`~langchain-openai package and should be used instead. To use it run `pip install -U :class:`~langchain-openai` and import as `from :class:`~langchain_openai import AzureChatOpenAI``.\n",
      "  llm = AzureChatOpenAI(\n"
     ]
    }
   ],
   "source": [
    "llm = AzureChatOpenAI(\n",
    "deployment_name=os.getenv(\"AZURE_OPENAI_DEPLOYMENT\", \"gpt-4o-mini\"),\n",
    "temperature=0,\n",
    "model_version=\"2025-09-16\"\n",
    ")"
   ]
  },
  {
   "cell_type": "code",
   "execution_count": 7,
   "id": "93c046c1",
   "metadata": {},
   "outputs": [],
   "source": [
    "prompt_template = ChatPromptTemplate.from_messages([\n",
    "(\"system\", \"You are a financial sentiment analysis assistant.\"),\n",
    "(\"user\", \"\"\"\n",
    "Given the following company name, stock code, and list of news summaries, generate a structured JSON sentiment profile.\n",
    "\n",
    "\n",
    "Company: {company_name}\n",
    "Stock Code: {stock_code}\n",
    "News: {newsdesc}\n",
    "\n",
    "\n",
    "{format_instructions}\n",
    "\"\"\"),\n",
    "])"
   ]
  },
  {
   "cell_type": "code",
   "execution_count": 8,
   "id": "fd85e87b",
   "metadata": {},
   "outputs": [
    {
     "name": "stdout",
     "output_type": "stream",
     "text": [
      "Created prompt 'utsab-assignment1-prompttemplate' (version 1)\n"
     ]
    }
   ],
   "source": [
    "# Register a new prompt\n",
    "prompt = mlflow.genai.register_prompt(\n",
    "    name=\"utsab-assignment1-prompttemplate\",\n",
    "    template=prompt_template,\n",
    "    # Optional: Provide a commit message to describe the changes\n",
    "    commit_message=\"Initial commit\",\n",
    "    # Optional: Set tags applies to the prompt (across versions)\n",
    "    tags={\n",
    "\n",
    "        \"author\": \"Utsab Mukherjee\",\n",
    "        \"task\": \"task-assignment1\",\n",
    "        \"language\": \"en\",\n",
    "        'llm': 'gpt-4o-mini'\n",
    "    },\n",
    ")\n",
    "\n",
    "# The prompt object contains information about the registered prompt\n",
    "print(f\"Created prompt '{prompt.name}' (version {prompt.version})\")\n"
   ]
  },
  {
   "cell_type": "code",
   "execution_count": 9,
   "id": "7754e47c",
   "metadata": {},
   "outputs": [],
   "source": [
    "def resolve_ticker(company_name: str) -> str:\n",
    "    lookup = {\"Apple Inc\": \"AAPL\", \"Microsoft\": \"MSFT\", \"Tesla\": \"TSLA\"}\n",
    "    return lookup.get(company_name, \"UNKNOWN\")\n",
    "\n",
    "\n",
    "def fetch_news(company_name: str):\n",
    "    return [\n",
    "    f\"{company_name} announces quarterly earnings with strong growth.\",\n",
    "    f\"{company_name} partners with global suppliers to expand reach.\",\n",
    "    f\"Analysts debate the future of {company_name}'s market share.\"\n",
    "        ]\n",
    "\n"
   ]
  },
  {
   "cell_type": "code",
   "execution_count": 10,
   "id": "867c8435",
   "metadata": {},
   "outputs": [],
   "source": [
    "def analyze_sentiment(company_name: str):\n",
    "    with mlflow.start_run(run_name=f\"sentiment_{company_name}\") as root:\n",
    "        mlflow.set_tag(\"pipeline\", \"realtime_sentiment\")\n",
    "        mlflow.log_param(\"company_name\", company_name)\n",
    "\n",
    "\n",
    "    # --- Stock Code Extraction\n",
    "    with mlflow.start_run(nested=True):\n",
    "        mlflow.set_tag(\"step\", \"stock_code_extraction\")\n",
    "        stock_code = resolve_ticker(company_name)\n",
    "        mlflow.log_param(\"stock_code\", stock_code)\n",
    "\n",
    "\n",
    "    # --- News Fetching\n",
    "    with mlflow.start_run(nested=True):\n",
    "        mlflow.set_tag(\"step\", \"news_fetching\")\n",
    "        news_items = fetch_news(company_name)\n",
    "        newsdesc = \" \".join(news_items)\n",
    "        mlflow.log_metric(\"news_count\", len(news_items))\n",
    "        mlflow.log_text(\"\\n\".join(news_items), \"news.txt\")\n",
    "\n",
    "\n",
    "    # --- LLM Call\n",
    "    with mlflow.start_run(nested=True):\n",
    "        mlflow.set_tag(\"step\", \"llm_call\")\n",
    "        prompt = prompt_template.format_messages(\n",
    "        company_name=company_name,\n",
    "        stock_code=stock_code,\n",
    "        newsdesc=newsdesc,\n",
    "        format_instructions=parser.get_format_instructions()\n",
    "        )\n",
    "\n",
    "\n",
    "    # prompt fingerprint\n",
    "    prompt_str = str(prompt)\n",
    "    prompt_fingerprint = hashlib.sha256(prompt_str.encode()).hexdigest()[:12]\n",
    "    mlflow.log_param(\"prompt_fingerprint\", prompt_fingerprint)\n",
    "    mlflow.log_text(prompt_str, \"prompt.txt\")\n",
    "\n",
    "\n",
    "    try:\n",
    "        t0 = time.time()\n",
    "        llm_output = llm.invoke(prompt)\n",
    "        latency = time.time() - t0\n",
    "        mlflow.log_metric(\"llm_latency_seconds\", latency)\n",
    "\n",
    "\n",
    "        parsed: SentimentProfile = parser.parse(llm_output.content)\n",
    "        mlflow.log_dict(parsed.dict(), \"parsed_profile.json\")\n",
    "        mlflow.log_metric(\"confidence_score\", parsed.confidence_score)\n",
    "        mlflow.set_tag(\"outcome\", \"success\")\n",
    "        mlflow.log_metric(\"success\", 1)\n",
    "        return parsed.dict()\n",
    "\n",
    "    except Exception:\n",
    "        mlflow.log_text(traceback.format_exc(), \"llm_error_trace.txt\")\n",
    "        mlflow.set_tag(\"outcome\", \"error\")\n",
    "        mlflow.log_metric(\"success\", 0)\n",
    "        raise"
   ]
  },
  {
   "cell_type": "code",
   "execution_count": null,
   "id": "41ac05b0",
   "metadata": {},
   "outputs": [
    {
     "name": "stdout",
     "output_type": "stream",
     "text": [
      "{\n",
      "  \"company_name\": \"Microsoft\",\n",
      "  \"stock_code\": \"MSFT\",\n",
      "  \"newsdesc\": \"Microsoft announces quarterly earnings with strong growth. Microsoft partners with global suppliers to expand reach. Analysts debate the future of Microsoft's market share.\",\n",
      "  \"sentiment\": \"Positive\",\n",
      "  \"people_names\": [],\n",
      "  \"places_names\": [],\n",
      "  \"other_companies_referred\": [],\n",
      "  \"related_industries\": [\n",
      "    \"Technology\",\n",
      "    \"Software\"\n",
      "  ],\n",
      "  \"market_implications\": \"Strong earnings and partnerships may lead to increased market confidence and potential growth in market share.\",\n",
      "  \"confidence_score\": 0.85\n",
      "}\n"
     ]
    },
    {
     "name": "stderr",
     "output_type": "stream",
     "text": [
      "/tmp/ipykernel_6374/573015509.py:49: PydanticDeprecatedSince20: The `dict` method is deprecated; use `model_dump` instead. Deprecated in Pydantic V2.0 to be removed in V3.0. See Pydantic V2 Migration Guide at https://errors.pydantic.dev/2.11/migration/\n",
      "  mlflow.log_dict(parsed.dict(), \"parsed_profile.json\")\n",
      "/tmp/ipykernel_6374/573015509.py:53: PydanticDeprecatedSince20: The `dict` method is deprecated; use `model_dump` instead. Deprecated in Pydantic V2.0 to be removed in V3.0. See Pydantic V2 Migration Guide at https://errors.pydantic.dev/2.11/migration/\n",
      "  return parsed.dict()\n"
     ]
    }
   ],
   "source": [
    "if __name__ == \"__main__\":\n",
    "    #prompt_path=\"prompts:/utsab-assignment1-prompttemplate/1\"\n",
    "    result = analyze_sentiment(\"Microsoft\")\n",
    "    print(json.dumps(result, indent=2))"
   ]
  },
  {
   "cell_type": "code",
   "execution_count": null,
   "id": "2568fde9",
   "metadata": {},
   "outputs": [
    {
     "name": "stdout",
     "output_type": "stream",
     "text": [
      "PromptVersion(name=utsab-assignment1-prompttemplate, version=1, template=input_variables=['company_name...)\n"
     ]
    }
   ],
   "source": [
    "# prompt = mlflow.genai.load_prompt(prompt_path)\n",
    "# print(prompt) "
   ]
  },
  {
   "cell_type": "code",
   "execution_count": null,
   "id": "0bbe737a",
   "metadata": {},
   "outputs": [],
   "source": []
  },
  {
   "cell_type": "code",
   "execution_count": null,
   "id": "ebb75811",
   "metadata": {},
   "outputs": [],
   "source": []
  }
 ],
 "metadata": {
  "kernelspec": {
   "display_name": "genai",
   "language": "python",
   "name": "python3"
  },
  "language_info": {
   "codemirror_mode": {
    "name": "ipython",
    "version": 3
   },
   "file_extension": ".py",
   "mimetype": "text/x-python",
   "name": "python",
   "nbconvert_exporter": "python",
   "pygments_lexer": "ipython3",
   "version": "3.12.3"
  }
 },
 "nbformat": 4,
 "nbformat_minor": 5
}
